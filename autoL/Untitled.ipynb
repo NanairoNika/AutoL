{
 "cells": [
  {
   "cell_type": "code",
   "execution_count": null,
   "metadata": {},
   "outputs": [],
   "source": [
    "!C:\\Users\\niksc\\udp_bin\\udpipe.exe --input horizontal --output conllu --tokenize --tag --parse C:\\Users\\niksc\\model_synt.udpipe < onear.txt > onear.conllu\n",
    "!C:\\Users\\niksc\\udp_bin\\udpipe.exe --input horizontal --output conllu --tokenize --tag --parse C:\\Users\\niksc\\model_synt.udpipe < twoar.txt > twoar.conllu\n",
    "!C:\\Users\\niksc\\udp_bin\\udpipe.exe --input horizontal --output conllu --tokenize --tag --parse C:\\Users\\niksc\\model_synt.udpipe < threear.txt > threear.conllu\n",
    "!C:\\Users\\niksc\\udp_bin\\udpipe.exe --input horizontal --output conllu --tokenize --tag --parse C:\\Users\\niksc\\model_synt.udpipe < fourar.txt > fourar.conllu\n"
   ]
  },
  {
   "cell_type": "code",
   "execution_count": null,
   "metadata": {},
   "outputs": [],
   "source": [
    "def graphmaker(name):\n",
    "    trees = []\n",
    "    \n",
    "    with open(name + '.conllu', encoding = 'utf-8') as f:\n",
    "        parsed_sents = f.read().split('\\n\\n')\n",
    "\n",
    "        for sent in parsed_sents:\n",
    "            tree = [line for line in sent.split('\\n') if line and line[0] != '#']\n",
    "            trees.append('\\n'.join(tree))\n",
    "        \n",
    "    g = DependencyGraph(trees[0], top_relation_label='root')\n",
    "    return g"
   ]
  },
  {
   "cell_type": "code",
   "execution_count": null,
   "metadata": {},
   "outputs": [],
   "source": [
    "g1 = graphmaker('onear')\n",
    "g2 = graphmaker('twoar')\n",
    "g3 = graphmaker('threearr')\n",
    "g4 = graphmaker('fourarr')"
   ]
  },
  {
   "cell_type": "code",
   "execution_count": null,
   "metadata": {},
   "outputs": [],
   "source": [
    "_FILTER_RELS = ['punct', 'conj', 'parataxis']\n",
    "def get_subtree(nodes, node):\n",
    "    if not nodes[node]['deps']:\n",
    "        return [node]\n",
    "    else:\n",
    "        return [node] + [get_subtree(nodes, dep) for rel in nodes[node]['deps'] \n",
    "                         if rel not in _FILTER_RELS\n",
    "                         for dep in nodes[node]['deps'][rel]]"
   ]
  },
  {
   "cell_type": "code",
   "execution_count": null,
   "metadata": {},
   "outputs": [],
   "source": [
    "def flatten(l):\n",
    "    flat = []\n",
    "    for el in l:\n",
    "        if not isinstance(el, list):\n",
    "            flat.append(el)\n",
    "        else:\n",
    "            flat += flatten(el)\n",
    "    return flat"
   ]
  },
  {
   "cell_type": "code",
   "execution_count": null,
   "metadata": {},
   "outputs": [],
   "source": [
    "np_list = []\n",
    "for n in g.nodes:\n",
    "    if g.nodes[n]['ctag'] == 'NOUN':\n",
    "        np = list(sorted(flatten(get_subtree(g.nodes, n))))\n",
    "        np_list.append(\n",
    "            ' '.join([g.nodes[i]['word'] for i in np])"
   ]
  },
  {
   "cell_type": "code",
   "execution_count": null,
   "metadata": {},
   "outputs": [],
   "source": [
    "result = []\n",
    "for t in trees:\n",
    "    g = DependencyGraph(t, top_relation_label='root')\n",
    "    np_list = []\n",
    "    for n in g.nodes:\n",
    "        if g.nodes[n]['ctag'] == 'NOUN':\n",
    "            np = list(sorted(flatten(get_subtree(g.nodes, n))))\n",
    "            np_list.append(\n",
    "                ' '.join([g.nodes[i]['word'] for i in np])\n",
    "            )\n",
    "    result.append(np_list)"
   ]
  },
  {
   "cell_type": "code",
   "execution_count": null,
   "metadata": {},
   "outputs": [],
   "source": []
  },
  {
   "cell_type": "code",
   "execution_count": null,
   "metadata": {},
   "outputs": [],
   "source": []
  },
  {
   "cell_type": "code",
   "execution_count": null,
   "metadata": {},
   "outputs": [],
   "source": []
  }
 ],
 "metadata": {
  "kernelspec": {
   "display_name": "Python 3",
   "language": "python",
   "name": "python3"
  },
  "language_info": {
   "codemirror_mode": {
    "name": "ipython",
    "version": 3
   },
   "file_extension": ".py",
   "mimetype": "text/x-python",
   "name": "python",
   "nbconvert_exporter": "python",
   "pygments_lexer": "ipython3",
   "version": "3.7.4"
  }
 },
 "nbformat": 4,
 "nbformat_minor": 2
}
